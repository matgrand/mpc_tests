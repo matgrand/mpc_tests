{
 "cells": [
  {
   "cell_type": "code",
   "execution_count": 1,
   "metadata": {},
   "outputs": [],
   "source": [
    "%reset -f\n",
    "%matplotlib widget"
   ]
  },
  {
   "cell_type": "code",
   "execution_count": 2,
   "metadata": {},
   "outputs": [
    {
     "name": "stdout",
     "output_type": "stream",
     "text": [
      "Lagrange equations derived\n",
      "Lagrange equations solved\n",
      "Model lambdified\n"
     ]
    }
   ],
   "source": [
    "\n",
    "import numpy as np\n",
    "import matplotlib.pyplot as plt\n",
    "import matplotlib.animation as animation\n",
    "import sympy as sp\n",
    "from sympy import Rational as frac\n",
    "\n",
    "#enable latex rendering\n",
    "sp.init_printing()\n",
    "\n",
    "###################################################################################################################\n",
    "l1 = 1.1  # First arm\n",
    "l2 = 1  # Second arm\n",
    "g = 9.81  # gravity\n",
    "μ1 = 0.8  # friction coefficient first joint\n",
    "μ2 = 0.8  # friction coefficient second joint\n",
    "m1 = 1  # mass of the first pendulum\n",
    "m2 = 1.1  # mass of the second pendulum\n",
    "mc = 1.2  # mass of the cart\n",
    "\n",
    "dt = 0.01  # time step\n",
    "SIMT = 30\n",
    "\n",
    "# use lagrangian mechanics to derive the equations of motion\n",
    "# define the symbolic variables\n",
    "t = sp.symbols('t')\n",
    "θ1, θ2, xc = sp.symbols(r'\\theta_1 \\theta_2 x_c', cls=sp.Function)\n",
    "#define as functions of time\n",
    "θ1, θ2 = θ1(t), θ2(t) # angles of the joints\n",
    "ω1, ω2 = θ1.diff(t), θ2.diff(t) # angular velocities of the joints\n",
    "α1, α2 = ω1.diff(t), ω2.diff(t) # angular accelerations of the joints\n",
    "xc = xc(t) # position of the cart\n",
    "v = xc.diff(t) # velocity of the cart\n",
    "a = v.diff(t) # acceleration of the cart\n",
    "\n",
    "#define position of all the masses\n",
    "x1, y1 = xc + l1*sp.sin(θ1), -l1*sp.cos(θ1) # position of the first pendulum\n",
    "x2, y2 = x1 + l2*sp.sin(θ2), y1 - l2*sp.cos(θ2) # position of the second pendulum\n",
    "\n",
    "# define the kinetic energy of the system\n",
    "T1 = frac(1,2)*m1*(x1.diff(t)**2 + y1.diff(t)**2) # kinetic energy of the first pendulum\n",
    "T2 = frac(1,2)*m2*(x2.diff(t)**2 + y2.diff(t)**2) # kinetic energy of the second pendulum\n",
    "Tc = frac(1,2)*mc*v**2 # kinetic energy of the cart\n",
    "T = T1 + T2 + Tc # total kinetic energy\n",
    "\n",
    "# define the potential energy of the system\n",
    "V = m1*g*y1 + m2*g*y2 # total potential energy\n",
    "\n",
    "# define the lagrangian\n",
    "L = T - V\n",
    "\n",
    "# get the lagrange equations\n",
    "LEQθ1 = ((L.diff(ω1)).diff(t) - L.diff(θ1)).simplify()\n",
    "LEQθ2 = ((L.diff(ω2)).diff(t) - L.diff(θ2)).simplify()\n",
    "LEQxc = ((L.diff(v)).diff(t) - L.diff(xc)).simplify()\n",
    "print('Lagrange equations derived')\n",
    "\n",
    "# solve the lagrange equations\n",
    "α1 = sp.solve(LEQθ1, α1)[0] #- μ1*ω1\n",
    "α2 = sp.solve(LEQθ2, α2)[0] #- μ2*ω2\n",
    "a = sp.solve(LEQxc, a)[0]\n",
    "print('Lagrange equations solved')\n",
    "\n",
    "# lambdify the equations\n",
    "# model_α1 = sp.lambdify((t, θ1, θ2, xc, ω1, ω2, v, α2, a), α1, 'numpy') \n",
    "# model_α2 = sp.lambdify((t, θ1, θ2, xc, ω1, ω2, v, α1, a), α2, 'numpy') \n",
    "# model_a  = sp.lambdify((t, θ1, θ2, xc, ω1, ω2, v, α1, α2), a, 'numpy') \n",
    "model_α1 = sp.lambdify((t, θ1, θ2, xc, ω1, ω2, v), α1, 'numpy')\n",
    "model_α2 = sp.lambdify((t, θ1, θ2, xc, ω1, ω2, v), α2, 'numpy') \n",
    "model_a  = sp.lambdify((t, θ1, θ2, xc, ω1, ω2, v), a, 'numpy') \n",
    "print('Model lambdified')\n",
    "\n",
    "\n",
    "\n",
    "\n"
   ]
  },
  {
   "cell_type": "code",
   "execution_count": 3,
   "metadata": {},
   "outputs": [
    {
     "data": {
      "image/png": "[encoded data removed]",
      "text/latex": [
       "$\\displaystyle - 0.476190476190476 \\sin{\\left(\\theta_{1}{\\left(t \\right)} - \\theta_{2}{\\left(t \\right)} \\right)} \\left(\\frac{d}{d t} \\theta_{2}{\\left(t \\right)}\\right)^{2} - 8.91818181818182 \\sin{\\left(\\theta_{1}{\\left(t \\right)} \\right)} + 4.369236617966 \\cdot 10^{-17} \\sin{\\left(2.0 \\theta_{1}{\\left(t \\right)} \\right)} \\left(\\frac{d}{d t} \\theta_{1}{\\left(t \\right)}\\right)^{2} - 0.476190476190476 \\cos{\\left(\\theta_{1}{\\left(t \\right)} - \\theta_{2}{\\left(t \\right)} \\right)} \\frac{d^{2}}{d t^{2}} \\theta_{2}{\\left(t \\right)} - 0.909090909090909 \\cos{\\left(\\theta_{1}{\\left(t \\right)} \\right)} \\frac{d^{2}}{d t^{2}} x_{c}{\\left(t \\right)}$"
      ],
      "text/plain": [
       "                                                                 2            \n",
       "                                                 ⎛d             ⎞             \n",
       "- 0.476190476190476⋅sin(\\theta₁(t) - \\theta₂(t))⋅⎜──(\\theta₂(t))⎟  - 8.9181818\n",
       "                                                 ⎝dt            ⎠             \n",
       "                                                                              \n",
       "\n",
       "                                                                              \n",
       "                                                                 ⎛d           \n",
       "1818182⋅sin(\\theta₁(t)) + 4.369236617966e-17⋅sin(2.0⋅\\theta₁(t))⋅⎜──(\\theta₁(t\n",
       "                                                                 ⎝dt          \n",
       "                                                                              \n",
       "\n",
       "   2                                                    2                     \n",
       "  ⎞                                                    d                      \n",
       "))⎟  - 0.476190476190476⋅cos(\\theta₁(t) - \\theta₂(t))⋅───(\\theta₂(t)) - 0.9090\n",
       "  ⎠                                                     2                     \n",
       "                                                      dt                      \n",
       "\n",
       "                              2        \n",
       "                             d         \n",
       "90909090909⋅cos(\\theta₁(t))⋅───(x_c(t))\n",
       "                              2        \n",
       "                            dt         "
      ]
     },
     "execution_count": 3,
     "metadata": {},
     "output_type": "execute_result"
    }
   ],
   "source": [
    "α1"
   ]
  },
  {
   "cell_type": "code",
   "execution_count": 4,
   "metadata": {},
   "outputs": [
    {
     "data": {
      "image/png": "[encoded data removed]",
      "text/latex": [
       "$\\displaystyle 1.1 \\sin{\\left(\\theta_{1}{\\left(t \\right)} - \\theta_{2}{\\left(t \\right)} \\right)} \\left(\\frac{d}{d t} \\theta_{1}{\\left(t \\right)}\\right)^{2} - 9.81 \\sin{\\left(\\theta_{2}{\\left(t \\right)} \\right)} - 1.1 \\cos{\\left(\\theta_{1}{\\left(t \\right)} - \\theta_{2}{\\left(t \\right)} \\right)} \\frac{d^{2}}{d t^{2}} \\theta_{1}{\\left(t \\right)} - \\cos{\\left(\\theta_{2}{\\left(t \\right)} \\right)} \\frac{d^{2}}{d t^{2}} x_{c}{\\left(t \\right)}$"
      ],
      "text/plain": [
       "                                                 2                            \n",
       "                                 ⎛d             ⎞                             \n",
       "1.1⋅sin(\\theta₁(t) - \\theta₂(t))⋅⎜──(\\theta₁(t))⎟  - 9.81⋅sin(\\theta₂(t)) - 1.\n",
       "                                 ⎝dt            ⎠                             \n",
       "                                                                              \n",
       "\n",
       "                                 2                                 2        \n",
       "                                d                                 d         \n",
       "1⋅cos(\\theta₁(t) - \\theta₂(t))⋅───(\\theta₁(t)) - cos(\\theta₂(t))⋅───(x_c(t))\n",
       "                                 2                                 2        \n",
       "                               dt                                dt         "
      ]
     },
     "execution_count": 4,
     "metadata": {},
     "output_type": "execute_result"
    }
   ],
   "source": [
    "α2"
   ]
  },
  {
   "cell_type": "code",
   "execution_count": 5,
   "metadata": {},
   "outputs": [
    {
     "data": {
      "image/png": "[encoded data removed]",
      "text/latex": [
       "$\\displaystyle 0.7 \\sin{\\left(\\theta_{1}{\\left(t \\right)} \\right)} \\left(\\frac{d}{d t} \\theta_{1}{\\left(t \\right)}\\right)^{2} + 0.333333333333333 \\sin{\\left(\\theta_{2}{\\left(t \\right)} \\right)} \\left(\\frac{d}{d t} \\theta_{2}{\\left(t \\right)}\\right)^{2} - 0.7 \\cos{\\left(\\theta_{1}{\\left(t \\right)} \\right)} \\frac{d^{2}}{d t^{2}} \\theta_{1}{\\left(t \\right)} - 0.333333333333333 \\cos{\\left(\\theta_{2}{\\left(t \\right)} \\right)} \\frac{d^{2}}{d t^{2}} \\theta_{2}{\\left(t \\right)}$"
      ],
      "text/plain": [
       "                                    2                                         \n",
       "                    ⎛d             ⎞                                      ⎛d  \n",
       "0.7⋅sin(\\theta₁(t))⋅⎜──(\\theta₁(t))⎟  + 0.333333333333333⋅sin(\\theta₂(t))⋅⎜──(\n",
       "                    ⎝dt            ⎠                                      ⎝dt \n",
       "                                                                              \n",
       "\n",
       "            2                         2                                       \n",
       "           ⎞                         d                                        \n",
       "\\theta₂(t))⎟  - 0.7⋅cos(\\theta₁(t))⋅───(\\theta₁(t)) - 0.333333333333333⋅cos(\\t\n",
       "           ⎠                          2                                       \n",
       "                                    dt                                        \n",
       "\n",
       "            2            \n",
       "           d             \n",
       "heta₂(t))⋅───(\\theta₂(t))\n",
       "            2            \n",
       "          dt             "
      ]
     },
     "execution_count": 5,
     "metadata": {},
     "output_type": "execute_result"
    }
   ],
   "source": [
    "a"
   ]
  },
  {
   "cell_type": "code",
   "execution_count": 7,
   "metadata": {},
   "outputs": [
    {
     "ename": "NameError",
     "evalue": "name 'Derivative' is not defined",
     "output_type": "error",
     "traceback": [
      "\u001b[0;31m---------------------------------------------------------------------------\u001b[0m",
      "\u001b[0;31mNameError\u001b[0m                                 Traceback (most recent call last)",
      "Cell \u001b[0;32mIn[7], line 11\u001b[0m\n\u001b[1;32m      5\u001b[0m nxc, nv, na \u001b[38;5;241m=\u001b[39m np\u001b[38;5;241m.\u001b[39mzeros_like(nt), np\u001b[38;5;241m.\u001b[39mzeros_like(nt), np\u001b[38;5;241m.\u001b[39mzeros_like(nt)\n\u001b[1;32m      7\u001b[0m \u001b[38;5;28;01mfor\u001b[39;00m i \u001b[38;5;129;01min\u001b[39;00m \u001b[38;5;28mrange\u001b[39m(\u001b[38;5;241m1\u001b[39m, \u001b[38;5;28mlen\u001b[39m(nt)):\n\u001b[1;32m      8\u001b[0m     \u001b[38;5;66;03m# nα1[i] = model_α1(0, nθ1[i-1], nω1[i-1], nθ2[i-1], nω2[i-1], nα2[i-1], nxc[i-1], nv[i-1], na[i-1])\u001b[39;00m\n\u001b[1;32m      9\u001b[0m     \u001b[38;5;66;03m# nα2[i] = model_α2(0, nθ1[i-1], nω1[i-1], nα1[i-1], nθ2[i-1], nω2[i-1], nxc[i-1], nv[i-1], na[i-1])\u001b[39;00m\n\u001b[1;32m     10\u001b[0m     \u001b[38;5;66;03m# na[i] = model_a(0, nθ1[i-1], nω1[i-1], nα1[i-1], nθ2[i-1], nω2[i-1], nα2[i-1], nxc[i-1], nv[i-1])\u001b[39;00m\n\u001b[0;32m---> 11\u001b[0m     nα1[i] \u001b[38;5;241m=\u001b[39m \u001b[43mmodel_α1\u001b[49m\u001b[43m(\u001b[49m\u001b[38;5;241;43m0\u001b[39;49m\u001b[43m,\u001b[49m\u001b[43m \u001b[49m\u001b[43mnθ1\u001b[49m\u001b[43m[\u001b[49m\u001b[43mi\u001b[49m\u001b[38;5;241;43m-\u001b[39;49m\u001b[38;5;241;43m1\u001b[39;49m\u001b[43m]\u001b[49m\u001b[43m,\u001b[49m\u001b[43m \u001b[49m\u001b[43mnθ2\u001b[49m\u001b[43m[\u001b[49m\u001b[43mi\u001b[49m\u001b[38;5;241;43m-\u001b[39;49m\u001b[38;5;241;43m1\u001b[39;49m\u001b[43m]\u001b[49m\u001b[43m,\u001b[49m\u001b[43m \u001b[49m\u001b[43mnxc\u001b[49m\u001b[43m[\u001b[49m\u001b[43mi\u001b[49m\u001b[38;5;241;43m-\u001b[39;49m\u001b[38;5;241;43m1\u001b[39;49m\u001b[43m]\u001b[49m\u001b[43m,\u001b[49m\u001b[43m \u001b[49m\u001b[43mnω1\u001b[49m\u001b[43m[\u001b[49m\u001b[43mi\u001b[49m\u001b[38;5;241;43m-\u001b[39;49m\u001b[38;5;241;43m1\u001b[39;49m\u001b[43m]\u001b[49m\u001b[43m,\u001b[49m\u001b[43m \u001b[49m\u001b[43mnω2\u001b[49m\u001b[43m[\u001b[49m\u001b[43mi\u001b[49m\u001b[38;5;241;43m-\u001b[39;49m\u001b[38;5;241;43m1\u001b[39;49m\u001b[43m]\u001b[49m\u001b[43m,\u001b[49m\u001b[43m \u001b[49m\u001b[43mnv\u001b[49m\u001b[43m[\u001b[49m\u001b[43mi\u001b[49m\u001b[38;5;241;43m-\u001b[39;49m\u001b[38;5;241;43m1\u001b[39;49m\u001b[43m]\u001b[49m\u001b[43m)\u001b[49m\n\u001b[1;32m     12\u001b[0m     nα2[i] \u001b[38;5;241m=\u001b[39m model_α2(\u001b[38;5;241m0\u001b[39m, nθ1[i\u001b[38;5;241m-\u001b[39m\u001b[38;5;241m1\u001b[39m], nθ2[i\u001b[38;5;241m-\u001b[39m\u001b[38;5;241m1\u001b[39m], nxc[i\u001b[38;5;241m-\u001b[39m\u001b[38;5;241m1\u001b[39m], nω1[i\u001b[38;5;241m-\u001b[39m\u001b[38;5;241m1\u001b[39m], nω2[i\u001b[38;5;241m-\u001b[39m\u001b[38;5;241m1\u001b[39m], nv[i\u001b[38;5;241m-\u001b[39m\u001b[38;5;241m1\u001b[39m])\n\u001b[1;32m     13\u001b[0m     na[i] \u001b[38;5;241m=\u001b[39m model_a(\u001b[38;5;241m0\u001b[39m, nθ1[i\u001b[38;5;241m-\u001b[39m\u001b[38;5;241m1\u001b[39m], nθ2[i\u001b[38;5;241m-\u001b[39m\u001b[38;5;241m1\u001b[39m], nxc[i\u001b[38;5;241m-\u001b[39m\u001b[38;5;241m1\u001b[39m], nω1[i\u001b[38;5;241m-\u001b[39m\u001b[38;5;241m1\u001b[39m], nω2[i\u001b[38;5;241m-\u001b[39m\u001b[38;5;241m1\u001b[39m], nv[i\u001b[38;5;241m-\u001b[39m\u001b[38;5;241m1\u001b[39m])\n",
      "File \u001b[0;32m<lambdifygenerated-1>:5\u001b[0m, in \u001b[0;36m_lambdifygenerated\u001b[0;34m(t, _Dummy_75, _Dummy_74, _Dummy_73, _Dummy_72, _Dummy_71, _Dummy_70)\u001b[0m\n\u001b[1;32m      1\u001b[0m \u001b[38;5;28;01mdef\u001b[39;00m \u001b[38;5;21m_lambdifygenerated\u001b[39m(t, _Dummy_75, _Dummy_74, _Dummy_73, _Dummy_72, _Dummy_71, _Dummy_70):\n\u001b[1;32m      2\u001b[0m     \u001b[38;5;28;01mreturn\u001b[39;00m (  \u001b[38;5;66;03m# Not supported in Python with numpy:\u001b[39;00m\n\u001b[1;32m      3\u001b[0m   \u001b[38;5;66;03m# Derivative\u001b[39;00m\n\u001b[1;32m      4\u001b[0m   \u001b[38;5;66;03m# Derivative\u001b[39;00m\n\u001b[0;32m----> 5\u001b[0m \u001b[38;5;241m0.476190476190476\u001b[39m\u001b[38;5;241m*\u001b[39m_Dummy_71\u001b[38;5;241m*\u001b[39m\u001b[38;5;241m*\u001b[39m\u001b[38;5;241m2\u001b[39m\u001b[38;5;241m*\u001b[39msin(_Dummy_74 \u001b[38;5;241m-\u001b[39m _Dummy_75) \u001b[38;5;241m+\u001b[39m \u001b[38;5;241m4.369236617966e-17\u001b[39m\u001b[38;5;241m*\u001b[39m_Dummy_72\u001b[38;5;241m*\u001b[39m\u001b[38;5;241m*\u001b[39m\u001b[38;5;241m2\u001b[39m\u001b[38;5;241m*\u001b[39msin(\u001b[38;5;241m2.0\u001b[39m\u001b[38;5;241m*\u001b[39m_Dummy_75) \u001b[38;5;241m-\u001b[39m \u001b[38;5;241m8.91818181818182\u001b[39m\u001b[38;5;241m*\u001b[39msin(_Dummy_75) \u001b[38;5;241m-\u001b[39m \u001b[38;5;241m0.909090909090909\u001b[39m\u001b[38;5;241m*\u001b[39mcos(_Dummy_75)\u001b[38;5;241m*\u001b[39m\u001b[43mDerivative\u001b[49m(_Dummy_73, (t, \u001b[38;5;241m2\u001b[39m)) \u001b[38;5;241m-\u001b[39m \u001b[38;5;241m0.476190476190476\u001b[39m\u001b[38;5;241m*\u001b[39mcos(_Dummy_74 \u001b[38;5;241m-\u001b[39m _Dummy_75)\u001b[38;5;241m*\u001b[39mDerivative(_Dummy_74, (t, \u001b[38;5;241m2\u001b[39m)))\n",
      "\u001b[0;31mNameError\u001b[0m: name 'Derivative' is not defined"
     ]
    }
   ],
   "source": [
    "\n",
    "# Integrate the differential equation\n",
    "nt = np.arange(0, SIMT, dt)\n",
    "nθ1, nω1, nα1 = np.zeros_like(nt), np.zeros_like(nt), np.zeros_like(nt)\n",
    "nθ2, nω2, nα2 = np.zeros_like(nt), np.zeros_like(nt), np.zeros_like(nt)\n",
    "nxc, nv, na = np.zeros_like(nt), np.zeros_like(nt), np.zeros_like(nt)\n",
    "\n",
    "for i in range(1, len(nt)):\n",
    "    # nα1[i] = model_α1(0, nθ1[i-1], nω1[i-1], nθ2[i-1], nω2[i-1], nα2[i-1], nxc[i-1], nv[i-1], na[i-1])\n",
    "    # nα2[i] = model_α2(0, nθ1[i-1], nω1[i-1], nα1[i-1], nθ2[i-1], nω2[i-1], nxc[i-1], nv[i-1], na[i-1])\n",
    "    # na[i] = model_a(0, nθ1[i-1], nω1[i-1], nα1[i-1], nθ2[i-1], nω2[i-1], nα2[i-1], nxc[i-1], nv[i-1])\n",
    "    nα1[i] = model_α1(0, nθ1[i-1], nθ2[i-1], nxc[i-1], nω1[i-1], nω2[i-1], nv[i-1])\n",
    "    nα2[i] = model_α2(0, nθ1[i-1], nθ2[i-1], nxc[i-1], nω1[i-1], nω2[i-1], nv[i-1])\n",
    "    na[i] = model_a(0, nθ1[i-1], nθ2[i-1], nxc[i-1], nω1[i-1], nω2[i-1], nv[i-1])\n",
    "    nω1[i] = nω1[i-1] + nα1[i]*dt\n",
    "    nω2[i] = nω2[i-1] + nα2[i]*dt\n",
    "    nv[i] = nv[i-1] + na[i]*dt\n",
    "    nθ1[i] = nθ1[i-1] + nω1[i]*dt\n",
    "    nθ2[i] = nθ2[i-1] + nω2[i]*dt\n",
    "    nxc[i] = nxc[i-1] + nv[i]*dt\n",
    "print('Differential equation integrated')\n",
    "\n",
    "# Plot\n",
    "fig, ax = plt.subplots(figsize=(10, 10))\n",
    "lim = (l1+l2)*1.2\n",
    "ax.set_xlim(-lim, lim), ax.set_ylim(-lim, lim)\n",
    "ax.set_aspect('equal')\n",
    "ax.grid(True)\n",
    "ax.set_xlabel('x [m]'), ax.set_ylabel('y [m]')\n",
    "ax.set_title('Double pendulum on a cart')\n",
    "\n",
    "line1, = ax.plot([], [], 'o-', lw=2, color='blue')\n",
    "line2, = ax.plot([], [], 'o-', lw=2, color='red')\n",
    "cart, = ax.plot([], [], 's', lw=2, color='black')\n",
    "\n",
    "time_template = 'time = %.1fs'\n",
    "time_text = ax.text(0.05, 0.9, '', transform=ax.transAxes)\n",
    "\n",
    "def init():\n",
    "    line1.set_data([], [])\n",
    "    line2.set_data([], [])\n",
    "    cart.set_data([], [])\n",
    "    time_text.set_text('')\n",
    "    return line1, line2, cart, time_text\n",
    "\n",
    "def animate(i):\n",
    "    x1 = l1*np.sin(nθ1[i])\n",
    "    y1 = -l1*np.cos(nθ1[i])\n",
    "    x2 = x1 + l2*np.sin(nθ2[i])\n",
    "    y2 = y1 - l2*np.cos(nθ2[i])\n",
    "    line1.set_data([0, x1], [0, y1])\n",
    "    line2.set_data([x1, x2], [y1, y2])\n",
    "    cart.set_data([nxc[i], 0])\n",
    "    time_text.set_text(time_template % (i*dt))\n",
    "    return line1, line2, cart, time_text\n",
    "\n",
    "ani = animation.FuncAnimation(fig, animate, np.arange(1, len(nt)), init_func=init, interval=dt*1000, blit=True)\n",
    "plt.show()"
   ]
  },
  {
   "cell_type": "code",
   "execution_count": null,
   "metadata": {},
   "outputs": [],
   "source": [
    "α1"
   ]
  },
  {
   "cell_type": "code",
   "execution_count": null,
   "metadata": {},
   "outputs": [],
   "source": [
    "α2"
   ]
  },
  {
   "cell_type": "code",
   "execution_count": null,
   "metadata": {},
   "outputs": [],
   "source": [
    "a"
   ]
  }
 ],
 "metadata": {
  "kernelspec": {
   "display_name": "ml",
   "language": "python",
   "name": "python3"
  },
  "language_info": {
   "codemirror_mode": {
    "name": "ipython",
    "version": 3
   },
   "file_extension": ".py",
   "mimetype": "text/x-python",
   "name": "python",
   "nbconvert_exporter": "python",
   "pygments_lexer": "ipython3",
   "version": "3.8.10"
  }
 },
 "nbformat": 4,
 "nbformat_minor": 2
}
