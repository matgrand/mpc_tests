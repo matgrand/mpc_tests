{
 "cells": [
  {
   "cell_type": "code",
   "execution_count": 10,
   "metadata": {},
   "outputs": [],
   "source": [
    "import numpy as np; π = np.pi\n",
    "import sympy as sp\n",
    "\n",
    "def convert_to_numpy(f):\n",
    "    f = str(f)\n",
    "    subs = [('u(t)', 'u'), \n",
    "            ('Derivative(θ1(t), (t, 2))', 'ddθ1'), \n",
    "            ('Derivative(θ2(t), (t, 2))', 'ddθ2'), \n",
    "            ('Derivative(θ2(t), t)', 'dθ2'), \n",
    "            ('Derivative(θ1(t), t)', 'dθ1'), \n",
    "            ('θ2(t)', 'θ2'), \n",
    "            ('θ1(t)', 'θ1'), \n",
    "            # ('**', '^'),\n",
    "    ]\n",
    "    for s in subs: f = f.replace(*s)\n",
    "    return f"
   ]
  },
  {
   "cell_type": "code",
   "execution_count": 11,
   "metadata": {},
   "outputs": [
    {
     "name": "stdout",
     "output_type": "stream",
     "text": [
      "ddθ1 = (9.81*sin(θ1) - 0.7*dθ1 + u)/1\n"
     ]
    }
   ],
   "source": [
    "# SINGLE PENDULUM #################################################################################################\n",
    "###################################################################################################################\n",
    "l1 = 1 # length of pendulum\n",
    "g = 9.81 # gravity\n",
    "μ1 = 0.7 # damping coefficient\n",
    "m1 = 1 # mass of pendulum\n",
    "\n",
    "np_ddθ1 = f'({g*l1*m1}*sin(θ1) - {μ1}*dθ1 + u)/{l1**2*m1}'\n",
    "print(f'ddθ1 = {np_ddθ1}')\n",
    "\n",
    "#create a .py file called single_pendulum_eqns.py with the equations of motion, and the parameters\n",
    "with open('eqns_single_pendulum.py', 'w') as file:\n",
    "    file.write(f'from numpy import sin\\n\\n')\n",
    "    file.write(f'def f_ddθ1(θ1, dθ1, u):\\n')\n",
    "    file.write(f'    return {np_ddθ1}\\n\\n')\n",
    "    file.write(f'l1 = {l1}\\n')\n",
    "    file.write(f'g = {g}\\n')\n",
    "    file.write(f'μ1 = {μ1}\\n')\n",
    "    file.write(f'm1 = {m1}\\n')"
   ]
  },
  {
   "cell_type": "code",
   "execution_count": 12,
   "metadata": {},
   "outputs": [
    {
     "name": "stdout",
     "output_type": "stream",
     "text": [
      "ddθ1 = (-0.5*u - 2.4525*sin(θ1 - 2*θ2) + 0.5*sin(θ1 - θ2)*dθ2**2 + 0.25*sin(2*θ1 - 2*θ2)*dθ1**2 - 7.3575*sin(θ1) - 0.35*cos(θ1 - θ2)*dθ2 + 0.35*dθ1)/(0.25*cos(2*θ1 - 2*θ2) - 0.75)\n",
      "ddθ2 = (0.5*u*cos(θ1 - θ2) - 1.0*sin(θ1 - θ2)*dθ1**2 - 0.25*sin(2*θ1 - 2*θ2)*dθ2**2 + 4.905*sin(2*θ1 - θ2) - 4.905*sin(θ2) - 0.35*cos(θ1 - θ2)*dθ1 + 0.7*dθ2)/(0.25*cos(2*θ1 - 2*θ2) - 0.75)\n"
     ]
    }
   ],
   "source": [
    "# DOUBLE PENDULUM #################################################################################################\n",
    "###################################################################################################################\n",
    "l1 = 1  # First arm\n",
    "l2 = 1  # Second arm\n",
    "g = 9.81  # gravity\n",
    "μ1 = .7 #.7  # friction coefficient first joint\n",
    "μ2 = .7 #.7  # friction coefficient second joint\n",
    "m1 = 1  # mass of the first pendulum\n",
    "m2 = 1  # mass of the second pendulum\n",
    "\n",
    "# use lagrangian mechanics to derive the equations of motion\n",
    "# define the symbolic variables\n",
    "t = sp.symbols('t')\n",
    "θ1, θ2, u = sp.symbols('θ1 θ2 u', cls=sp.Function)\n",
    "#define as functions of time\n",
    "θ1, θ2 = θ1(t), θ2(t) # angles of the joints\n",
    "u = u(t) # control input\n",
    "dθ1, dθ2 = θ1.diff(t), θ2.diff(t) # angular velocities of the joints\n",
    "ddθ1, ddθ2 = dθ1.diff(t), dθ2.diff(t) # angular accelerations of the joints\n",
    "\n",
    "#define position of all the masses\n",
    "x1, y1 = l1*sp.sin(θ1), l1*sp.cos(θ1) # position of the first pendulum\n",
    "x2, y2 = x1 + l2*sp.sin(θ2), y1 + l2*sp.cos(θ2) # position of the second pendulum\n",
    "dx1, dy1 = x1.diff(t), y1.diff(t) # velocity of the first pendulum\n",
    "dx2, dy2 = x2.diff(t), y2.diff(t) # velocity of the second pendulum\n",
    "\n",
    "# define the kinetic energy of the system\n",
    "T1 = 1/2*m1*(dx1**2 + dy1**2) # kinetic energy of the first pendulum\n",
    "T2 = 1/2*m2*(dx2**2 + dy2**2) # kinetic energy of the second pendulum\n",
    "T = T1 + T2 # total kinetic energy\n",
    "\n",
    "# define the potential energy of the system\n",
    "V1 = m1*g*y1 # potential energy of the first pendulum\n",
    "V2 = m2*g*y2 # potential energy of the second pendulum\n",
    "V = V1 + V2 # total potential energy\n",
    "\n",
    "# lagrangian\n",
    "L = T - V\n",
    "\n",
    "# get the lagrange equations\n",
    "LEQθ1 = L.diff(θ1) - (L.diff(dθ1)).diff(t) - μ1*dθ1 + u # lagrange equation for the first joint\n",
    "LEQθ2 = L.diff(θ2) - (L.diff(dθ2)).diff(t) - μ2*dθ2 # lagrange equation for the second join\n",
    "\n",
    "# lambdify the equations of motion\n",
    "sol = sp.solve([LEQθ1, LEQθ2], [ddθ1, ddθ2], simplify=False)\n",
    "ddθ1 = sol[ddθ1].simplify()\n",
    "ddθ2 = sol[ddθ2].simplify()\n",
    "\n",
    "# convert equations to numpy\n",
    "np_ddθ1 = convert_to_numpy(ddθ1)\n",
    "np_ddθ2 = convert_to_numpy(ddθ2)\n",
    "print(f'ddθ1 = {np_ddθ1}')\n",
    "print(f'ddθ2 = {np_ddθ2}')\n",
    "\n",
    "#create a .py file called double_pendulum_eqns.py with the equations of motion, and the parameters\n",
    "with open('eqns_double_pendulum.py', 'w') as file:\n",
    "    file.write(f'from numpy import sin, cos, tan, exp, log, sqrt, pi\\n')\n",
    "    file.write(f'def f_ddθ1(θ1, θ2, dθ1, dθ2, u):\\n')\n",
    "    file.write(f'    return {np_ddθ1}\\n\\n')\n",
    "    file.write(f'def f_ddθ2(θ1, θ2, dθ1, dθ2, u):\\n')\n",
    "    file.write(f'    return {np_ddθ2}\\n\\n')\n",
    "    file.write(f'l1 = {l1}\\n')\n",
    "    file.write(f'l2 = {l2}\\n')\n",
    "    file.write(f'g = {g}\\n')\n",
    "    file.write(f'μ1 = {μ1}\\n')\n",
    "    file.write(f'μ2 = {μ2}\\n')\n",
    "    file.write(f'm1 = {m1}\\n')\n",
    "    file.write(f'm2 = {m2}\\n')"
   ]
  }
 ],
 "metadata": {
  "kernelspec": {
   "display_name": "ml",
   "language": "python",
   "name": "python3"
  },
  "language_info": {
   "codemirror_mode": {
    "name": "ipython",
    "version": 3
   },
   "file_extension": ".py",
   "mimetype": "text/x-python",
   "name": "python",
   "nbconvert_exporter": "python",
   "pygments_lexer": "ipython3",
   "version": "3.12.4"
  }
 },
 "nbformat": 4,
 "nbformat_minor": 2
}
